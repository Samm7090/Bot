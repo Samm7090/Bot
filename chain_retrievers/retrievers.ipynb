{
 "cells": [
  {
   "cell_type": "markdown",
   "id": "5c65c826",
   "metadata": {},
   "source": [
    "Retrievers and Chain with LangChain"
   ]
  },
  {
   "cell_type": "code",
   "execution_count": null,
   "id": "41db4ae9",
   "metadata": {},
   "outputs": [],
   "source": []
  },
  {
   "cell_type": "markdown",
   "id": "a0d5f989",
   "metadata": {},
   "source": [
    "Read PDF"
   ]
  },
  {
   "cell_type": "code",
   "execution_count": 3,
   "id": "dc15574e",
   "metadata": {},
   "outputs": [
    {
     "name": "stderr",
     "output_type": "stream",
     "text": [
      "c:\\Users\\Samme\\Git\\Langchain_bot\\env311\\Lib\\site-packages\\tqdm\\auto.py:21: TqdmWarning: IProgress not found. Please update jupyter and ipywidgets. See https://ipywidgets.readthedocs.io/en/stable/user_install.html\n",
      "  from .autonotebook import tqdm as notebook_tqdm\n"
     ]
    }
   ],
   "source": [
    "from langchain_community.document_loaders import PyPDFLoader\n",
    "loader=PyPDFLoader(\"Sammedh Nale .pdf (2).pdf\")\n",
    "docs = loader.load()"
   ]
  },
  {
   "cell_type": "code",
   "execution_count": 4,
   "id": "2c03bbaa",
   "metadata": {},
   "outputs": [
    {
     "data": {
      "text/plain": [
       "[Document(metadata={'producer': 'Canva', 'creator': 'Canva', 'creationdate': '2025-10-07T16:52:16+00:00', 'title': 'Sammedh Nale .pdf', 'moddate': '2025-10-07T16:52:16+00:00', 'keywords': 'DAGozmgpEhk,BAEH3B1NDQM,0', 'author': 'Sammedh Nale', 'source': 'Sammedh Nale .pdf (2).pdf', 'total_pages': 1, 'page': 0, 'page_label': '1'}, page_content=\"S U M M A R Y\\nR e s u l t s - d r i v e n  a n d  h i g h l y  m o t i v a t e d  p r o f e s s i o n a l  w i t h  2 . 5  y e a r s  o f  e x p e r i e n c e  i n  D a t a  A n a l y s i s  a n d  B u s i n e s s\\nA n a l y s i s .  N o w  s e e k i n g  a  c h a l l e n g i n g  o p p o r t u n i t y  i n  t h e  f i e l d s  o f  D a t a  S c i e n c e ,  M a c h i n e  L e a r n i n g ,  a n d  A r t i f i c i a l\\nI n t e l l i g e n c e  t o  l e v e r a g e  m y  a n a l y t i c a l  s k i l l s  a n d  p a s s i o n  f o r  e m e r g i n g  t e c h n o l o g i e s .\\n+ 9 1  - 7 7 4 3 9 9 7 0 9 0\\ns a m m e d h 8 n a l e @ g m a i l . c o m\\nP u n e ,  M a h a r a s h t r a  , I n d i a\\nS A M M E D H  N A L E\\nB u s i n e s s  A n a l y s t  /  D a t a  A n a l y s t  \\nS K I L L S\\nE D U C A T I O N\\nC E R T I F I C A T I O N S\\nP R O F E S S I O N A L  E X P E R I E N C E\\nB C S  ( B a c h e l o r ' s  i n  C o m p u t e r  S c i e n c e )\\nJ u l y  2 0 1 9  t o  O c t o b e r  2 0 2 2\\nP y t h o n  P r o g r a m m i n g   \\nD a t a  S c i e n c e  \\nC o l l a b o r a t e d  w i t h  s t a k e h o l d e r s  t o  g a t h e r  a n d  a n a l y z e  b u s i n e s s\\nr e q u i r e m e n t s  f o r  E R P  s o f t w a r e  s y s t e m s  a n d  p r o d u c t\\ne n h a n c e m e n t s .  \\nP r e p a r e d  d e t a i l e d  B u s i n e s s  R e q u i r e m e n t  D o c u m e n t s  ( B R D ) ,\\nF u n c t i o n a l  R e q u i r e m e n t  D o c u m e n t s  ( F R D ) ,  a n d  u s e r  s t o r i e s .  \\nR e g u l a r l y  c o m m u n i c a t e d  p r o j e c t  s t a t u s ,  r i s k s ,  a n d  m i l e s t o n e s  t o\\nk e y  s t a k e h o l d e r s ,  e n s u r i n g  a l i g n m e n t  b e t w e e n  b u s i n e s s  a n d\\nt e c h n i c a l  t e a m s .  \\nD e v e l o p e d  t e s t  p l a n s ,  e x e c u t e d  u s e r  a c c e p t a n c e  t e s t i n g  ( U A T ) ,  a n d\\ne n s u r e d  s o l u t i o n s  m e t  b u s i n e s s  n e e d s\\nM A R A T H W A D  M I T R A M A N D A L\\nC O L L E G E  O F  C O M M E R C E  ( M M C C )\\nE x t r a c t e d  a n d  s t r u c t u r e d  r a w  i n s u r a n c e  p o l i c y  a n d  c l a i m s  d a t a\\nf r o m  P D F  f o r m a t s ,  p e r f o r m i n g  t h o r o u g h  d a t a  c l e a n i n g ,\\nn o r m a l i z a t i o n ,  a n d  p r e p r o c e s s i n g  t o  e n s u r e  q u a l i t y  a n d\\nc o n s i s t e n c y .\\nC o n d u c t e d  e x p l o r a t o r y  d a t a  a n a l y s i s  ( E D A )  a n d  f e a t u r e  e n g i n e e r i n g\\nt o  i d e n t i f y  k e y  v a r i a b l e s  a n d  e n h a n c e  d a t a  r e a d i n e s s  f o r  m a c h i n e\\nl e a r n i n g  w o r k f l o w s .\\nS p l i t  a n d  p r e p a r e d  d a t a s e t s  f o r  m o d e l  t r a i n i n g  a n d  v a l i d a t i o n .\\nD a t a  A n n o t a t o r  /  A n a l y s t .  |  O C T  2 0 2 2  -  J U L  2 0 2 4\\nE l i g a r f  T e c h n o l o g i e s  .\\nP r o g r a m m i n g  L a n g u a g e s :  P y t h o n ,  F l a s k\\nJ a v a ,  C ,  C + +\\nT o o l s :  P o w e r  B i ,  M i c r o s o f t  E x c e l ,  J u p y t e r ,\\nP y C h a r m ,  a n d  V S  C o d e\\nD a t a b a s e s :  M y S Q L ,  P S Q L\\nK n o w l e d g e  o f  H T M L ,  C S S  a n d  S t r e a m l i t\\nA p p l i e d  M L  a l g o r i t h m s  S c i k i t - l e a r n  f o r\\np r e d i c t i v e  a n a l y t i c s  a n d  b u s i n e s s\\ni n s i g h t s .\\nP r o f i c i e n t  w i t h  G i t / G i t H u b  f o r  v e r s i o n\\nc o n t r o l  a n d  c o l l a b o r a t i v e  d e v e l o p m e n t .\\nS t r o n g  g r a s p  o f  d a t a  s t r u c t u r e s ,\\na l g o r i t h m s ,  a n d  p r o b l e m - s o l v i n g\\nt e c h n i q u e s .\\nS u c c e s s f u l l y  d e l i v e r e d  e n d - t o - e n d  E R P\\ni m p l e m e n t a t i o n s ,  P o w e r  B I  d a s h b o a r d s ,\\na n d  M L - e n a b l e d  p r o j e c t s  f o r  c l i e n t s .\\nB u s i n e s s  A n a l y s t  |  O C T  2 0 2 4  -  P r e s e n t\\nE x a c u e r  G l o b a l  S e r v i c e  P v t .  L t d .\\nL i n k e d I n . c o m\\nW o r k e d  i n  a  c r o s s - f u n c t i o n a l  d a t a  s c i e n c e  t e a m  t o  b u i l d  a n\\nM L - d r i v e n  p r e m i u m  p r e d i c t i o n  m o d e l ,  r e d u c i n g  u n d e r w r i t i n g\\nt i m e  f r o m  3  d a y s  t o  < 5  s e c o n d s .\\nT o o k  o w n e r s h i p  o f  d a t a  a n a l y s i s ,  c l e a n i n g ,  a n d  f e a t u r e\\ne n g i n e e r i n g .  T r a i n e d  m o d e l  e v a l u a t i o n  ( L i n e a r  R e g r e s s i o n ,\\nR a n d o m  F o r e s t ,  X G B o o s t ) ,  a c h i e v i n g  R ²  =  0 . 9 2  a n d  1 5 %  h i g h e r\\np r i c i n g  a c c u r a c y .\\nD e s i g n e d  a n d  i m p l e m e n t e d  t h e  S t r e a m l i t / F l a s k  d a s h b o a r d ,\\ne n a b l i n g  s a l e s  a n d  u n d e r w r i t i n g  t e a m s  t o  g e n e r a t e\\nt r a n s p a r e n t ,  i n s t a n t  p r e m i u m  q u o t e s .\\nC o n t r i b u t e d  t o  d e p l o y m e n t  a n d  b u s i n e s s  v a l i d a t i o n ,  h e l p i n g\\na c h i e v e  a  ~ 1 0 %  r e d u c t i o n  i n  c l a i m  r a t i o  a n d  i m p r o v e d\\nc u s t o m e r  a c q u i s i t i o n .\\nP R O J E C T\\nP r o j e c t :  C o m m e r c i a l  I n s u r a n c e  P r e m i u m  E s t i m a t o r\")]"
      ]
     },
     "execution_count": 4,
     "metadata": {},
     "output_type": "execute_result"
    }
   ],
   "source": [
    "docs"
   ]
  },
  {
   "cell_type": "markdown",
   "id": "312a070e",
   "metadata": {},
   "source": [
    "Transform it in small chunks"
   ]
  },
  {
   "cell_type": "code",
   "execution_count": 5,
   "id": "19a1774c",
   "metadata": {},
   "outputs": [],
   "source": [
    "from langchain.text_splitter import RecursiveCharacterTextSplitter\n",
    "text_splitter=RecursiveCharacterTextSplitter(chunk_size=1000,chunk_overlap=200)\n",
    "chunk=text_splitter.split_documents(docs)"
   ]
  },
  {
   "cell_type": "code",
   "execution_count": 6,
   "id": "183127d2",
   "metadata": {},
   "outputs": [
    {
     "data": {
      "text/plain": [
       "[Document(metadata={'producer': 'Canva', 'creator': 'Canva', 'creationdate': '2025-10-07T16:52:16+00:00', 'title': 'Sammedh Nale .pdf', 'moddate': '2025-10-07T16:52:16+00:00', 'keywords': 'DAGozmgpEhk,BAEH3B1NDQM,0', 'author': 'Sammedh Nale', 'source': 'Sammedh Nale .pdf (2).pdf', 'total_pages': 1, 'page': 0, 'page_label': '1'}, page_content=\"S U M M A R Y\\nR e s u l t s - d r i v e n  a n d  h i g h l y  m o t i v a t e d  p r o f e s s i o n a l  w i t h  2 . 5  y e a r s  o f  e x p e r i e n c e  i n  D a t a  A n a l y s i s  a n d  B u s i n e s s\\nA n a l y s i s .  N o w  s e e k i n g  a  c h a l l e n g i n g  o p p o r t u n i t y  i n  t h e  f i e l d s  o f  D a t a  S c i e n c e ,  M a c h i n e  L e a r n i n g ,  a n d  A r t i f i c i a l\\nI n t e l l i g e n c e  t o  l e v e r a g e  m y  a n a l y t i c a l  s k i l l s  a n d  p a s s i o n  f o r  e m e r g i n g  t e c h n o l o g i e s .\\n+ 9 1  - 7 7 4 3 9 9 7 0 9 0\\ns a m m e d h 8 n a l e @ g m a i l . c o m\\nP u n e ,  M a h a r a s h t r a  , I n d i a\\nS A M M E D H  N A L E\\nB u s i n e s s  A n a l y s t  /  D a t a  A n a l y s t  \\nS K I L L S\\nE D U C A T I O N\\nC E R T I F I C A T I O N S\\nP R O F E S S I O N A L  E X P E R I E N C E\\nB C S  ( B a c h e l o r ' s  i n  C o m p u t e r  S c i e n c e )\\nJ u l y  2 0 1 9  t o  O c t o b e r  2 0 2 2\"),\n",
       " Document(metadata={'producer': 'Canva', 'creator': 'Canva', 'creationdate': '2025-10-07T16:52:16+00:00', 'title': 'Sammedh Nale .pdf', 'moddate': '2025-10-07T16:52:16+00:00', 'keywords': 'DAGozmgpEhk,BAEH3B1NDQM,0', 'author': 'Sammedh Nale', 'source': 'Sammedh Nale .pdf (2).pdf', 'total_pages': 1, 'page': 0, 'page_label': '1'}, page_content=\"C E R T I F I C A T I O N S\\nP R O F E S S I O N A L  E X P E R I E N C E\\nB C S  ( B a c h e l o r ' s  i n  C o m p u t e r  S c i e n c e )\\nJ u l y  2 0 1 9  t o  O c t o b e r  2 0 2 2\\nP y t h o n  P r o g r a m m i n g   \\nD a t a  S c i e n c e  \\nC o l l a b o r a t e d  w i t h  s t a k e h o l d e r s  t o  g a t h e r  a n d  a n a l y z e  b u s i n e s s\\nr e q u i r e m e n t s  f o r  E R P  s o f t w a r e  s y s t e m s  a n d  p r o d u c t\\ne n h a n c e m e n t s .  \\nP r e p a r e d  d e t a i l e d  B u s i n e s s  R e q u i r e m e n t  D o c u m e n t s  ( B R D ) ,\\nF u n c t i o n a l  R e q u i r e m e n t  D o c u m e n t s  ( F R D ) ,  a n d  u s e r  s t o r i e s .  \\nR e g u l a r l y  c o m m u n i c a t e d  p r o j e c t  s t a t u s ,  r i s k s ,  a n d  m i l e s t o n e s  t o\\nk e y  s t a k e h o l d e r s ,  e n s u r i n g  a l i g n m e n t  b e t w e e n  b u s i n e s s  a n d\\nt e c h n i c a l  t e a m s .\"),\n",
       " Document(metadata={'producer': 'Canva', 'creator': 'Canva', 'creationdate': '2025-10-07T16:52:16+00:00', 'title': 'Sammedh Nale .pdf', 'moddate': '2025-10-07T16:52:16+00:00', 'keywords': 'DAGozmgpEhk,BAEH3B1NDQM,0', 'author': 'Sammedh Nale', 'source': 'Sammedh Nale .pdf (2).pdf', 'total_pages': 1, 'page': 0, 'page_label': '1'}, page_content='k e y  s t a k e h o l d e r s ,  e n s u r i n g  a l i g n m e n t  b e t w e e n  b u s i n e s s  a n d\\nt e c h n i c a l  t e a m s .  \\nD e v e l o p e d  t e s t  p l a n s ,  e x e c u t e d  u s e r  a c c e p t a n c e  t e s t i n g  ( U A T ) ,  a n d\\ne n s u r e d  s o l u t i o n s  m e t  b u s i n e s s  n e e d s\\nM A R A T H W A D  M I T R A M A N D A L\\nC O L L E G E  O F  C O M M E R C E  ( M M C C )\\nE x t r a c t e d  a n d  s t r u c t u r e d  r a w  i n s u r a n c e  p o l i c y  a n d  c l a i m s  d a t a\\nf r o m  P D F  f o r m a t s ,  p e r f o r m i n g  t h o r o u g h  d a t a  c l e a n i n g ,\\nn o r m a l i z a t i o n ,  a n d  p r e p r o c e s s i n g  t o  e n s u r e  q u a l i t y  a n d\\nc o n s i s t e n c y .\\nC o n d u c t e d  e x p l o r a t o r y  d a t a  a n a l y s i s  ( E D A )  a n d  f e a t u r e  e n g i n e e r i n g'),\n",
       " Document(metadata={'producer': 'Canva', 'creator': 'Canva', 'creationdate': '2025-10-07T16:52:16+00:00', 'title': 'Sammedh Nale .pdf', 'moddate': '2025-10-07T16:52:16+00:00', 'keywords': 'DAGozmgpEhk,BAEH3B1NDQM,0', 'author': 'Sammedh Nale', 'source': 'Sammedh Nale .pdf (2).pdf', 'total_pages': 1, 'page': 0, 'page_label': '1'}, page_content='c o n s i s t e n c y .\\nC o n d u c t e d  e x p l o r a t o r y  d a t a  a n a l y s i s  ( E D A )  a n d  f e a t u r e  e n g i n e e r i n g\\nt o  i d e n t i f y  k e y  v a r i a b l e s  a n d  e n h a n c e  d a t a  r e a d i n e s s  f o r  m a c h i n e\\nl e a r n i n g  w o r k f l o w s .\\nS p l i t  a n d  p r e p a r e d  d a t a s e t s  f o r  m o d e l  t r a i n i n g  a n d  v a l i d a t i o n .\\nD a t a  A n n o t a t o r  /  A n a l y s t .  |  O C T  2 0 2 2  -  J U L  2 0 2 4\\nE l i g a r f  T e c h n o l o g i e s  .\\nP r o g r a m m i n g  L a n g u a g e s :  P y t h o n ,  F l a s k\\nJ a v a ,  C ,  C + +\\nT o o l s :  P o w e r  B i ,  M i c r o s o f t  E x c e l ,  J u p y t e r ,\\nP y C h a r m ,  a n d  V S  C o d e\\nD a t a b a s e s :  M y S Q L ,  P S Q L\\nK n o w l e d g e  o f  H T M L ,  C S S  a n d  S t r e a m l i t\\nA p p l i e d  M L  a l g o r i t h m s  S c i k i t - l e a r n  f o r\\np r e d i c t i v e  a n a l y t i c s  a n d  b u s i n e s s'),\n",
       " Document(metadata={'producer': 'Canva', 'creator': 'Canva', 'creationdate': '2025-10-07T16:52:16+00:00', 'title': 'Sammedh Nale .pdf', 'moddate': '2025-10-07T16:52:16+00:00', 'keywords': 'DAGozmgpEhk,BAEH3B1NDQM,0', 'author': 'Sammedh Nale', 'source': 'Sammedh Nale .pdf (2).pdf', 'total_pages': 1, 'page': 0, 'page_label': '1'}, page_content='A p p l i e d  M L  a l g o r i t h m s  S c i k i t - l e a r n  f o r\\np r e d i c t i v e  a n a l y t i c s  a n d  b u s i n e s s\\ni n s i g h t s .\\nP r o f i c i e n t  w i t h  G i t / G i t H u b  f o r  v e r s i o n\\nc o n t r o l  a n d  c o l l a b o r a t i v e  d e v e l o p m e n t .\\nS t r o n g  g r a s p  o f  d a t a  s t r u c t u r e s ,\\na l g o r i t h m s ,  a n d  p r o b l e m - s o l v i n g\\nt e c h n i q u e s .\\nS u c c e s s f u l l y  d e l i v e r e d  e n d - t o - e n d  E R P\\ni m p l e m e n t a t i o n s ,  P o w e r  B I  d a s h b o a r d s ,\\na n d  M L - e n a b l e d  p r o j e c t s  f o r  c l i e n t s .\\nB u s i n e s s  A n a l y s t  |  O C T  2 0 2 4  -  P r e s e n t\\nE x a c u e r  G l o b a l  S e r v i c e  P v t .  L t d .\\nL i n k e d I n . c o m\\nW o r k e d  i n  a  c r o s s - f u n c t i o n a l  d a t a  s c i e n c e  t e a m  t o  b u i l d  a n'),\n",
       " Document(metadata={'producer': 'Canva', 'creator': 'Canva', 'creationdate': '2025-10-07T16:52:16+00:00', 'title': 'Sammedh Nale .pdf', 'moddate': '2025-10-07T16:52:16+00:00', 'keywords': 'DAGozmgpEhk,BAEH3B1NDQM,0', 'author': 'Sammedh Nale', 'source': 'Sammedh Nale .pdf (2).pdf', 'total_pages': 1, 'page': 0, 'page_label': '1'}, page_content='E x a c u e r  G l o b a l  S e r v i c e  P v t .  L t d .\\nL i n k e d I n . c o m\\nW o r k e d  i n  a  c r o s s - f u n c t i o n a l  d a t a  s c i e n c e  t e a m  t o  b u i l d  a n\\nM L - d r i v e n  p r e m i u m  p r e d i c t i o n  m o d e l ,  r e d u c i n g  u n d e r w r i t i n g\\nt i m e  f r o m  3  d a y s  t o  < 5  s e c o n d s .\\nT o o k  o w n e r s h i p  o f  d a t a  a n a l y s i s ,  c l e a n i n g ,  a n d  f e a t u r e\\ne n g i n e e r i n g .  T r a i n e d  m o d e l  e v a l u a t i o n  ( L i n e a r  R e g r e s s i o n ,\\nR a n d o m  F o r e s t ,  X G B o o s t ) ,  a c h i e v i n g  R ²  =  0 . 9 2  a n d  1 5 %  h i g h e r\\np r i c i n g  a c c u r a c y .\\nD e s i g n e d  a n d  i m p l e m e n t e d  t h e  S t r e a m l i t / F l a s k  d a s h b o a r d ,\\ne n a b l i n g  s a l e s  a n d  u n d e r w r i t i n g  t e a m s  t o  g e n e r a t e\\nt r a n s p a r e n t ,  i n s t a n t  p r e m i u m  q u o t e s .'),\n",
       " Document(metadata={'producer': 'Canva', 'creator': 'Canva', 'creationdate': '2025-10-07T16:52:16+00:00', 'title': 'Sammedh Nale .pdf', 'moddate': '2025-10-07T16:52:16+00:00', 'keywords': 'DAGozmgpEhk,BAEH3B1NDQM,0', 'author': 'Sammedh Nale', 'source': 'Sammedh Nale .pdf (2).pdf', 'total_pages': 1, 'page': 0, 'page_label': '1'}, page_content='e n a b l i n g  s a l e s  a n d  u n d e r w r i t i n g  t e a m s  t o  g e n e r a t e\\nt r a n s p a r e n t ,  i n s t a n t  p r e m i u m  q u o t e s .\\nC o n t r i b u t e d  t o  d e p l o y m e n t  a n d  b u s i n e s s  v a l i d a t i o n ,  h e l p i n g\\na c h i e v e  a  ~ 1 0 %  r e d u c t i o n  i n  c l a i m  r a t i o  a n d  i m p r o v e d\\nc u s t o m e r  a c q u i s i t i o n .\\nP R O J E C T\\nP r o j e c t :  C o m m e r c i a l  I n s u r a n c e  P r e m i u m  E s t i m a t o r')]"
      ]
     },
     "execution_count": 6,
     "metadata": {},
     "output_type": "execute_result"
    }
   ],
   "source": [
    "chunk"
   ]
  },
  {
   "cell_type": "code",
   "execution_count": null,
   "id": "e1e5cba5",
   "metadata": {},
   "outputs": [],
   "source": []
  },
  {
   "cell_type": "markdown",
   "id": "9e80a19f",
   "metadata": {},
   "source": [
    "Load the chunks in VectorStore"
   ]
  },
  {
   "cell_type": "code",
   "execution_count": 7,
   "id": "e4bc484c",
   "metadata": {},
   "outputs": [
    {
     "name": "stderr",
     "output_type": "stream",
     "text": [
      "C:\\Users\\Samme\\AppData\\Local\\Temp\\ipykernel_11340\\602395248.py:5: LangChainDeprecationWarning: The class `HuggingFaceEmbeddings` was deprecated in LangChain 0.2.2 and will be removed in 1.0. An updated version of the class exists in the :class:`~langchain-huggingface package and should be used instead. To use it run `pip install -U :class:`~langchain-huggingface` and import as `from :class:`~langchain_huggingface import HuggingFaceEmbeddings``.\n",
      "  embeddings=SentenceTransformerEmbeddings(model_name='all-MiniLM-L6-v2')\n"
     ]
    }
   ],
   "source": [
    "from langchain.vectorstores import Chroma\n",
    "from langchain.embeddings import OllamaEmbeddings\n",
    "from langchain.embeddings import SentenceTransformerEmbeddings\n",
    "\n",
    "embeddings=SentenceTransformerEmbeddings(model_name='all-MiniLM-L6-v2')\n",
    "\n",
    "persist_directory=\"./chroma_db_v2\""
   ]
  },
  {
   "cell_type": "code",
   "execution_count": 8,
   "id": "98e973f5",
   "metadata": {},
   "outputs": [
    {
     "name": "stdout",
     "output_type": "stream",
     "text": [
      "✅ Chroma DB created and persisted at: ./chroma_db_v2\n"
     ]
    },
    {
     "name": "stderr",
     "output_type": "stream",
     "text": [
      "C:\\Users\\Samme\\AppData\\Local\\Temp\\ipykernel_11340\\2654170653.py:7: LangChainDeprecationWarning: Since Chroma 0.4.x the manual persistence method is no longer supported as docs are automatically persisted.\n",
      "  vectordb.persist()\n"
     ]
    }
   ],
   "source": [
    "vectordb=Chroma.from_documents(\n",
    "    chunk,\n",
    "    embeddings,\n",
    "    persist_directory=persist_directory\n",
    ")\n",
    "\n",
    "vectordb.persist()\n",
    "print(\"✅ Chroma DB created and persisted at:\", persist_directory)"
   ]
  },
  {
   "cell_type": "code",
   "execution_count": 9,
   "id": "5c3ea214",
   "metadata": {},
   "outputs": [
    {
     "data": {
      "text/plain": [
       "<langchain_community.vectorstores.chroma.Chroma at 0x22f12dab250>"
      ]
     },
     "execution_count": 9,
     "metadata": {},
     "output_type": "execute_result"
    }
   ],
   "source": [
    "vectordb"
   ]
  },
  {
   "cell_type": "code",
   "execution_count": 28,
   "id": "a05b8fe9",
   "metadata": {},
   "outputs": [
    {
     "data": {
      "text/plain": [
       "\"S U M M A R Y\\nR e s u l t s - d r i v e n  a n d  h i g h l y  m o t i v a t e d  p r o f e s s i o n a l  w i t h  2 . 5  y e a r s  o f  e x p e r i e n c e  i n  D a t a  A n a l y s i s  a n d  B u s i n e s s\\nA n a l y s i s .  N o w  s e e k i n g  a  c h a l l e n g i n g  o p p o r t u n i t y  i n  t h e  f i e l d s  o f  D a t a  S c i e n c e ,  M a c h i n e  L e a r n i n g ,  a n d  A r t i f i c i a l\\nI n t e l l i g e n c e  t o  l e v e r a g e  m y  a n a l y t i c a l  s k i l l s  a n d  p a s s i o n  f o r  e m e r g i n g  t e c h n o l o g i e s .\\n+ 9 1  - 7 7 4 3 9 9 7 0 9 0\\ns a m m e d h 8 n a l e @ g m a i l . c o m\\nP u n e ,  M a h a r a s h t r a  , I n d i a\\nS A M M E D H  N A L E\\nB u s i n e s s  A n a l y s t  /  D a t a  A n a l y s t  \\nS K I L L S\\nE D U C A T I O N\\nC E R T I F I C A T I O N S\\nP R O F E S S I O N A L  E X P E R I E N C E\\nB C S  ( B a c h e l o r ' s  i n  C o m p u t e r  S c i e n c e )\\nJ u l y  2 0 1 9  t o  O c t o b e r  2 0 2 2\""
      ]
     },
     "execution_count": 28,
     "metadata": {},
     "output_type": "execute_result"
    }
   ],
   "source": [
    "query=\"Summary of document\" \n",
    "result=vectordb.similarity_search(query)\n",
    "result[0].page_content"
   ]
  },
  {
   "cell_type": "code",
   "execution_count": null,
   "id": "183148a8",
   "metadata": {},
   "outputs": [],
   "source": []
  },
  {
   "cell_type": "markdown",
   "id": "fdb55212",
   "metadata": {},
   "source": [
    "Try from FAISS which is another vector store provided from Meta"
   ]
  },
  {
   "cell_type": "code",
   "execution_count": 10,
   "id": "647366dd",
   "metadata": {},
   "outputs": [],
   "source": [
    "# from langchain_community.embeddings import OllamaEmbeddings\n",
    "from langchain_community.vectorstores import FAISS\n",
    "\n",
    "db=FAISS.from_documents(chunk[:30],embedding=embeddings)"
   ]
  },
  {
   "cell_type": "code",
   "execution_count": 11,
   "id": "41f6f6a8",
   "metadata": {},
   "outputs": [
    {
     "data": {
      "text/plain": [
       "<langchain_community.vectorstores.faiss.FAISS at 0x22f3a490ad0>"
      ]
     },
     "execution_count": 11,
     "metadata": {},
     "output_type": "execute_result"
    }
   ],
   "source": [
    "db"
   ]
  },
  {
   "cell_type": "code",
   "execution_count": 12,
   "id": "7b1b7a02",
   "metadata": {},
   "outputs": [
    {
     "data": {
      "text/plain": [
       "\"S U M M A R Y\\nR e s u l t s - d r i v e n  a n d  h i g h l y  m o t i v a t e d  p r o f e s s i o n a l  w i t h  2 . 5  y e a r s  o f  e x p e r i e n c e  i n  D a t a  A n a l y s i s  a n d  B u s i n e s s\\nA n a l y s i s .  N o w  s e e k i n g  a  c h a l l e n g i n g  o p p o r t u n i t y  i n  t h e  f i e l d s  o f  D a t a  S c i e n c e ,  M a c h i n e  L e a r n i n g ,  a n d  A r t i f i c i a l\\nI n t e l l i g e n c e  t o  l e v e r a g e  m y  a n a l y t i c a l  s k i l l s  a n d  p a s s i o n  f o r  e m e r g i n g  t e c h n o l o g i e s .\\n+ 9 1  - 7 7 4 3 9 9 7 0 9 0\\ns a m m e d h 8 n a l e @ g m a i l . c o m\\nP u n e ,  M a h a r a s h t r a  , I n d i a\\nS A M M E D H  N A L E\\nB u s i n e s s  A n a l y s t  /  D a t a  A n a l y s t  \\nS K I L L S\\nE D U C A T I O N\\nC E R T I F I C A T I O N S\\nP R O F E S S I O N A L  E X P E R I E N C E\\nB C S  ( B a c h e l o r ' s  i n  C o m p u t e r  S c i e n c e )\\nJ u l y  2 0 1 9  t o  O c t o b e r  2 0 2 2\""
      ]
     },
     "execution_count": 12,
     "metadata": {},
     "output_type": "execute_result"
    }
   ],
   "source": [
    "query=\"Summary of document\" \n",
    "result=db.similarity_search(query)\n",
    "result[0].page_content"
   ]
  },
  {
   "cell_type": "code",
   "execution_count": null,
   "id": "395272d0",
   "metadata": {},
   "outputs": [],
   "source": []
  },
  {
   "cell_type": "markdown",
   "id": "b7f5ab52",
   "metadata": {},
   "source": [
    "Combine a prompt along with chains and retrivers and get the response based on the prompt"
   ]
  },
  {
   "cell_type": "code",
   "execution_count": 13,
   "id": "1e01c1c2",
   "metadata": {},
   "outputs": [],
   "source": [
    "# from langchain_community.llms import Ollama\n",
    "# llm =Ollama(model=\"gemma:latest\")\n",
    "# llm\n",
    "\n",
    "from langchain_openai import ChatOpenAI\n",
    "import os\n",
    "\n",
    "llm = ChatOpenAI(\n",
    "    model=\"mistralai/mistral-small-3.1-24b-instruct:free\",\n",
    "    openai_api_key=os.getenv(\"OPENAI_API_KEY\"),\n",
    "    temperature=0.7\n",
    ")"
   ]
  },
  {
   "cell_type": "code",
   "execution_count": null,
   "id": "e67cea4e",
   "metadata": {},
   "outputs": [],
   "source": []
  },
  {
   "cell_type": "markdown",
   "id": "d780e704",
   "metadata": {},
   "source": [
    "Design chat prompt template"
   ]
  },
  {
   "cell_type": "markdown",
   "id": "a6e99e90",
   "metadata": {},
   "source": [
    "Here we are defining our prompt template. This template will guide the LLM to generate a summary based on the retrieved documents.\n"
   ]
  },
  {
   "cell_type": "code",
   "execution_count": 14,
   "id": "d3e3ee89",
   "metadata": {},
   "outputs": [],
   "source": [
    "from langchain_core.prompts import ChatPromptTemplate\n",
    "prompt=ChatPromptTemplate.from_template(\"\"\"\n",
    "Answer the following questions based only on the provided context.\n",
    "Think step by step before provided a detailed answer.\n",
    "<context>{context}</context>        \n",
    "Question: {input}\"\"\")"
   ]
  },
  {
   "cell_type": "markdown",
   "id": "294ce267",
   "metadata": {},
   "source": [
    "Context means all the documents stored in vectorstore. \n",
    "Inputs are the questions you are asking."
   ]
  },
  {
   "cell_type": "code",
   "execution_count": null,
   "id": "70bf92d3",
   "metadata": {},
   "outputs": [],
   "source": []
  },
  {
   "cell_type": "markdown",
   "id": "bb54ddcf",
   "metadata": {},
   "source": [
    "Chain Introduction\n"
   ]
  },
  {
   "cell_type": "code",
   "execution_count": 15,
   "id": "6932ea08",
   "metadata": {},
   "outputs": [],
   "source": [
    "#Create Stuff Document Chain\n",
    "\n",
    "from langchain.chains.combine_documents import create_stuff_documents_chain\n",
    "\n",
    "document_chain=create_stuff_documents_chain(llm,prompt)         # document chain require 2 things 1 llm and other prompt\n",
    "\n"
   ]
  },
  {
   "cell_type": "code",
   "execution_count": null,
   "id": "1bf5d995",
   "metadata": {},
   "outputs": [],
   "source": []
  },
  {
   "cell_type": "markdown",
   "id": "374ba42d",
   "metadata": {},
   "source": [
    "Retriver"
   ]
  },
  {
   "cell_type": "code",
   "execution_count": 16,
   "id": "07adbcf9",
   "metadata": {},
   "outputs": [
    {
     "data": {
      "text/plain": [
       "'Vectore stores can be used as the backbone or a retriver, but there are other types of retrievers as well.'"
      ]
     },
     "execution_count": 16,
     "metadata": {},
     "output_type": "execute_result"
    }
   ],
   "source": [
    "\"Retrivers: A retriver is an interface that returns documents \"\n",
    "\"given an unstructured query.It is more general than a vector store. \"\n",
    "\"A retriver does not need to be able to store documents, only to return (or retrieve) them. \"\n",
    "\"Vectore stores can be used as the backbone or a retriver, but there are other types of retrievers as well.\""
   ]
  },
  {
   "cell_type": "code",
   "execution_count": null,
   "id": "b0a74e6f",
   "metadata": {},
   "outputs": [
    {
     "data": {
      "text/plain": [
       "VectorStoreRetriever(tags=['FAISS', 'HuggingFaceEmbeddings'], vectorstore=<langchain_community.vectorstores.faiss.FAISS object at 0x0000022F3A490AD0>, search_kwargs={})"
      ]
     },
     "execution_count": 17,
     "metadata": {},
     "output_type": "execute_result"
    }
   ],
   "source": [
    "retriver=db.as_retriever()\n",
    "retriver"
   ]
  },
  {
   "cell_type": "code",
   "execution_count": null,
   "id": "33fa1503",
   "metadata": {},
   "outputs": [],
   "source": []
  },
  {
   "cell_type": "markdown",
   "id": "2d93c9b1",
   "metadata": {},
   "source": [
    "Retrival Chain"
   ]
  },
  {
   "cell_type": "code",
   "execution_count": 18,
   "id": "b5d04ffe",
   "metadata": {},
   "outputs": [
    {
     "data": {
      "text/plain": [
       "'(and original inputs) are then passed to an LLM to generate a response.'"
      ]
     },
     "execution_count": 18,
     "metadata": {},
     "output_type": "execute_result"
    }
   ],
   "source": [
    "\"Retrival Chain: This chain takes in a user inquiry, which is then\"\n",
    "\"pased to retrives to fetch relavent documents, those documents\"\n",
    "\"(and original inputs) are then passed to an LLM to generate a response.\""
   ]
  },
  {
   "cell_type": "code",
   "execution_count": 19,
   "id": "24090bd1",
   "metadata": {},
   "outputs": [],
   "source": [
    "from langchain.chains import create_retrieval_chain\n",
    "\n",
    "retrival_chain=create_retrieval_chain(retriver,document_chain)"
   ]
  },
  {
   "cell_type": "code",
   "execution_count": 26,
   "id": "d100fd61",
   "metadata": {},
   "outputs": [],
   "source": [
    "# response=retrival_chain.invoke({\"input\":\"Give me the email id of Sammedh Nale from the document\"})\n",
    "response=retrival_chain.invoke({\"input\":\"Give me the linkedin of Sammedh Nale from the document\"})"
   ]
  },
  {
   "cell_type": "code",
   "execution_count": 27,
   "id": "f02e3895",
   "metadata": {},
   "outputs": [
    {
     "data": {
      "text/plain": [
       "'Based on the provided context, the LinkedIn profile of Sammedh Nale is mentioned as:\\n\\n**LinkedIn.com**'"
      ]
     },
     "execution_count": 27,
     "metadata": {},
     "output_type": "execute_result"
    }
   ],
   "source": [
    "response['answer']"
   ]
  },
  {
   "cell_type": "code",
   "execution_count": null,
   "id": "57fffcaf",
   "metadata": {},
   "outputs": [],
   "source": []
  },
  {
   "cell_type": "code",
   "execution_count": null,
   "id": "c7ec8fb0",
   "metadata": {},
   "outputs": [],
   "source": []
  },
  {
   "cell_type": "code",
   "execution_count": null,
   "id": "d7eac089",
   "metadata": {},
   "outputs": [],
   "source": []
  },
  {
   "cell_type": "code",
   "execution_count": null,
   "id": "016a9bb3",
   "metadata": {},
   "outputs": [],
   "source": []
  },
  {
   "cell_type": "code",
   "execution_count": null,
   "id": "9fce1a58",
   "metadata": {},
   "outputs": [],
   "source": []
  },
  {
   "cell_type": "code",
   "execution_count": null,
   "id": "6cf80406",
   "metadata": {},
   "outputs": [],
   "source": []
  }
 ],
 "metadata": {
  "kernelspec": {
   "display_name": "env311",
   "language": "python",
   "name": "python3"
  },
  "language_info": {
   "codemirror_mode": {
    "name": "ipython",
    "version": 3
   },
   "file_extension": ".py",
   "mimetype": "text/x-python",
   "name": "python",
   "nbconvert_exporter": "python",
   "pygments_lexer": "ipython3",
   "version": "3.11.9"
  }
 },
 "nbformat": 4,
 "nbformat_minor": 5
}
